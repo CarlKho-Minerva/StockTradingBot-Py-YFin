{
 "cells": [
  {
   "cell_type": "code",
   "execution_count": 1,
   "metadata": {},
   "outputs": [],
   "source": [
    "import yfinance as yf\n",
    "from datetime import datetime, timedelta\n",
    "import pandas_ta as ta\n",
    "import time"
   ]
  },
  {
   "cell_type": "code",
   "execution_count": 2,
   "metadata": {},
   "outputs": [],
   "source": [
    "asset_list = [\n",
    "\n",
    "    {'ticker':'AMZN', 'yfticker':yf.Ticker('AMZN'),'holding':False},\n",
    "    {'ticker':'GOOG', 'yfticker':yf.Ticker('GOOG'),'holding':False},\n",
    "    {'ticker':'NFLX', 'yfticker':yf.Ticker('NFLX'),'holding':False},\n",
    "    {'ticker':'MSFT', 'yfticker':yf.Ticker('MSFT'),'holding':False},\n",
    "    {'ticker':'TSLA', 'yfticker':yf.Ticker('TSLA'),'holding':False},\n",
    "    {'ticker':'BTC-USD', 'yfticker':yf.Ticker('BTC-USD'),'holding':False},\n",
    "    {'ticker':'ETH-USD', 'yfticker':yf.Ticker('ETH-USD'),'holding':False},\n",
    "\n",
    "]\n",
    "\n",
    "period_fast = 10\n",
    "period_slow = 30\n",
    "currently_holding = False\n",
    "tradelog = []"
   ]
  },
  {
   "cell_type": "code",
   "execution_count": 3,
   "metadata": {},
   "outputs": [],
   "source": [
    "import math\n",
    "def get_pause():\n",
    "    now = datetime.now()\n",
    "    next_min = now.replace(second=0, microsecond=0) + timedelta(minutes=1)\n",
    "    pause = math.ceil((next_min - now).seconds)\n",
    "    print(f\"Sleep for {pause}\")\n",
    "    return pause"
   ]
  },
  {
   "cell_type": "code",
   "execution_count": null,
   "metadata": {},
   "outputs": [],
   "source": [
    "while True:\n",
    "    for asset in asset_list:\n",
    "        start_date = (datetime.now() - timedelta(days = 2)).strftime('%Y-%m-%d')\n",
    "        df = asset['yfticker'].history(start=start_date, interval='1m')\n",
    "\n",
    "        del df['Dividends']\n",
    "        del df['Stock Splits']\n",
    "        del df['Volume']\n",
    "\n",
    "        df['SMA_fast'] = ta.sma(df['Close'], period_fast)\n",
    "        df['SMA_slow'] = ta.sma(df['Close'], period_slow)\n",
    "\n",
    "        price = df.iloc[-1]['Close']\n",
    "\n",
    "        if df.iloc[-1]['SMA_fast'] > df.iloc[-1]['SMA_slow'] and not currently_holding:\n",
    "            print(f\"Buy {asset['ticker']}@{price}\")\n",
    "            tradelog.append({'date': datetime.now(), 'ticker': asset['ticker'], 'side': 'buy', 'price': price})\n",
    "            currently_holding = True\n",
    "\n",
    "        elif df.iloc[-1]['SMA_fast'] < df.iloc[-1]['SMA_slow'] and currently_holding:\n",
    "            print(f\"Sell {asset['ticker']}@{price}\")\n",
    "            tradelog.append({'date': datetime.now(), 'ticker': asset['ticker'], 'side': 'sell', 'price': price})\n",
    "            currently_holding = False\n",
    "\n",
    "    time.sleep(get_pause())"
   ]
  }
 ],
 "metadata": {
  "kernelspec": {
   "display_name": "Python 3",
   "language": "python",
   "name": "python3"
  },
  "language_info": {
   "codemirror_mode": {
    "name": "ipython",
    "version": 3
   },
   "file_extension": ".py",
   "mimetype": "text/x-python",
   "name": "python",
   "nbconvert_exporter": "python",
   "pygments_lexer": "ipython3",
   "version": "3.11.4"
  }
 },
 "nbformat": 4,
 "nbformat_minor": 2
}
