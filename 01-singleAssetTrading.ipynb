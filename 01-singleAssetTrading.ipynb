{
 "cells": [
  {
   "cell_type": "code",
   "execution_count": 7,
   "metadata": {},
   "outputs": [],
   "source": [
    "import yfinance as yf\n",
    "from datetime import datetime, timedelta\n",
    "import pandas_ta as ta\n",
    "import time"
   ]
  },
  {
   "cell_type": "code",
   "execution_count": 9,
   "metadata": {},
   "outputs": [
    {
     "ename": "KeyboardInterrupt",
     "evalue": "",
     "output_type": "error",
     "traceback": [
      "\u001b[0;31m---------------------------------------------------------------------------\u001b[0m",
      "\u001b[0;31mKeyboardInterrupt\u001b[0m                         Traceback (most recent call last)",
      "Cell \u001b[0;32mIn[9], line 31\u001b[0m\n\u001b[1;32m     28\u001b[0m     tradelog\u001b[38;5;241m.\u001b[39mappend({\u001b[38;5;124m'\u001b[39m\u001b[38;5;124mdate\u001b[39m\u001b[38;5;124m'\u001b[39m:datetime\u001b[38;5;241m.\u001b[39mnow(), \u001b[38;5;124m'\u001b[39m\u001b[38;5;124mticker\u001b[39m\u001b[38;5;124m'\u001b[39m: ticker, \u001b[38;5;124m'\u001b[39m\u001b[38;5;124mside\u001b[39m\u001b[38;5;124m'\u001b[39m: \u001b[38;5;124m\"\u001b[39m\u001b[38;5;124mbuy\u001b[39m\u001b[38;5;124m\"\u001b[39m, \u001b[38;5;124m'\u001b[39m\u001b[38;5;124mprice\u001b[39m\u001b[38;5;124m'\u001b[39m: price})\n\u001b[1;32m     29\u001b[0m     currently_holding \u001b[38;5;241m=\u001b[39m \u001b[38;5;28;01mFalse\u001b[39;00m\n\u001b[0;32m---> 31\u001b[0m \u001b[43mtime\u001b[49m\u001b[38;5;241;43m.\u001b[39;49m\u001b[43msleep\u001b[49m\u001b[43m(\u001b[49m\u001b[38;5;241;43m60\u001b[39;49m\u001b[43m)\u001b[49m\n",
      "\u001b[0;31mKeyboardInterrupt\u001b[0m: "
     ]
    }
   ],
   "source": [
    "ticker = \"META\"\n",
    "asset = yf.Ticker(ticker)\n",
    "period_fast = 10\n",
    "period_slow = 30\n",
    "currently_holding = False\n",
    "tradelog = []\n",
    "\n",
    "while True:\n",
    "    start_date = (datetime.now() - timedelta(days=3)).strftime(\"%Y-%m-%d\")\n",
    "    df = asset.history(start=start_date, interval='1m')\n",
    "\n",
    "    del df['Dividends']\n",
    "    del df['Stock Splits']\n",
    "    del df['Volume']\n",
    "\n",
    "    df['SMA_fast'] = ta.sma(df['Close'], period_fast)\n",
    "    df['SMA_slow'] = ta.sma(df['Close'], period_slow)\n",
    "\n",
    "    price = df.iloc[-1]['Close']\n",
    "\n",
    "    if df.iloc[-1]['SMA_fast'] > df.iloc[-1]['SMA_slow'] and not currently_holding:\n",
    "        print(f\"Buy {ticker}@{price}\")\n",
    "        tradelog.append({'date':datetime.now(), 'ticker': ticker, 'side': \"buy\", 'price': price})\n",
    "        currently_holding = True\n",
    "\n",
    "    elif df.iloc[-1]['SMA_fast'] < df.iloc[-1]['SMA_slow'] and currently_holding:\n",
    "        print(f\"Sell {ticker}@{price}\")\n",
    "        tradelog.append({'date':datetime.now(), 'ticker': ticker, 'side': \"buy\", 'price': price})\n",
    "        currently_holding = False\n",
    "\n",
    "    time.sleep(60)"
   ]
  },
  {
   "cell_type": "code",
   "execution_count": 5,
   "metadata": {},
   "outputs": [
    {
     "name": "stderr",
     "output_type": "stream",
     "text": [
      "[*********************100%%**********************]  1 of 1 completed\n",
      "\n",
      "1 Failed download:\n",
      "['PLTR']: Exception('%ticker%: No price data found, symbol may be delisted (1d 2024-02-11 11:22:03.162546 -> 2024-02-12 11:22:03.162546)')\n"
     ]
    }
   ],
   "source": [
    "from datetime import datetime, timedelta\n",
    "import yfinance as yf\n",
    "\n",
    "# Set end date as now\n",
    "end_date = datetime.now()\n",
    "\n",
    "# Set start date as one day before now\n",
    "start_date = end_date - timedelta(days=1)\n",
    "\n",
    "# Fetch data for the last day\n",
    "df = yf.download('META', start=start_date, end=end_date)"
   ]
  },
  {
   "cell_type": "markdown",
   "metadata": {},
   "source": []
  },
  {
   "cell_type": "code",
   "execution_count": null,
   "metadata": {},
   "outputs": [],
   "source": []
  }
 ],
 "metadata": {
  "kernelspec": {
   "display_name": "Python 3",
   "language": "python",
   "name": "python3"
  },
  "language_info": {
   "codemirror_mode": {
    "name": "ipython",
    "version": 3
   },
   "file_extension": ".py",
   "mimetype": "text/x-python",
   "name": "python",
   "nbconvert_exporter": "python",
   "pygments_lexer": "ipython3",
   "version": "3.11.4"
  }
 },
 "nbformat": 4,
 "nbformat_minor": 2
}
