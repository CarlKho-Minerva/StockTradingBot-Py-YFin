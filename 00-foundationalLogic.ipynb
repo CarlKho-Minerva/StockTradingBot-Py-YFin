{
 "cells": [
  {
   "cell_type": "code",
   "execution_count": 1,
   "metadata": {},
   "outputs": [
    {
     "name": "stdout",
     "output_type": "stream",
     "text": [
      "                                 Open        High         Low       Close  \\\n",
      "Datetime                                                                    \n",
      "2024-02-09 15:50:00-05:00  467.859985  468.040009  467.579987  467.910004   \n",
      "2024-02-09 15:51:00-05:00  467.920013  468.070007  467.880005  468.070007   \n",
      "2024-02-09 15:52:00-05:00  468.079987  468.329987  468.019989  468.140015   \n",
      "2024-02-09 15:53:00-05:00  468.079987  468.140015  467.989990  468.059998   \n",
      "2024-02-09 15:54:00-05:00  468.029999  468.390015  467.890015  468.000000   \n",
      "2024-02-09 15:55:00-05:00  468.040009  468.329987  467.670013  467.709991   \n",
      "2024-02-09 15:56:00-05:00  467.700012  467.849915  467.515015  467.709991   \n",
      "2024-02-09 15:57:00-05:00  467.750000  467.924988  467.690002  467.899994   \n",
      "2024-02-09 15:58:00-05:00  467.899994  467.980011  467.720001  467.829987   \n",
      "2024-02-09 15:59:00-05:00  467.839996  468.109985  467.630005  468.010010   \n",
      "\n",
      "                             SMA_fast    SMA_slow  \n",
      "Datetime                                           \n",
      "2024-02-09 15:50:00-05:00  468.152499  468.642139  \n",
      "2024-02-09 15:51:00-05:00  468.111499  468.596475  \n",
      "2024-02-09 15:52:00-05:00  468.102002  468.556309  \n",
      "2024-02-09 15:53:00-05:00  468.076001  468.516475  \n",
      "2024-02-09 15:54:00-05:00  468.046002  468.479142  \n",
      "2024-02-09 15:55:00-05:00  468.005002  468.438309  \n",
      "2024-02-09 15:56:00-05:00  467.964001  468.396475  \n",
      "2024-02-09 15:57:00-05:00  467.951001  468.360475  \n",
      "2024-02-09 15:58:00-05:00  467.923999  468.324967  \n",
      "2024-02-09 15:59:00-05:00  467.934000  468.293634  \n"
     ]
    }
   ],
   "source": [
    "import yfinance as yf\n",
    "from datetime import datetime, timedelta\n",
    "import pandas_ta as ta\n",
    "\n",
    "asset = yf.Ticker('META')\n",
    "start_date = (datetime.now() - timedelta(days=3)).strftime('%Y-%m-%d')\n",
    "df = asset.history(start=start_date, interval='1m')\n",
    "\n",
    "del df['Dividends']\n",
    "del df['Stock Splits']\n",
    "del df['Volume']\n",
    "\n",
    "df['SMA_fast'] = ta.sma(df['Close'],10)\n",
    "df['SMA_slow'] = ta.sma(df['Close'],30)\n",
    "\n",
    "print(df.tail(10))"
   ]
  },
  {
   "cell_type": "code",
   "execution_count": 2,
   "metadata": {},
   "outputs": [
    {
     "name": "stdout",
     "output_type": "stream",
     "text": [
      "Sell!\n"
     ]
    }
   ],
   "source": [
    "recentFast = df.iloc[-1]['SMA_fast']\n",
    "recentSlow = df.iloc[-1]['SMA_slow']\n",
    "\n",
    "if recentFast > recentSlow:\n",
    "    print(\"Buy!\")\n",
    "else:\n",
    "    print(\"Sell!\")"
   ]
  },
  {
   "cell_type": "code",
   "execution_count": null,
   "metadata": {},
   "outputs": [],
   "source": []
  }
 ],
 "metadata": {
  "kernelspec": {
   "display_name": "Python 3",
   "language": "python",
   "name": "python3"
  },
  "language_info": {
   "codemirror_mode": {
    "name": "ipython",
    "version": 3
   },
   "file_extension": ".py",
   "mimetype": "text/x-python",
   "name": "python",
   "nbconvert_exporter": "python",
   "pygments_lexer": "ipython3",
   "version": "3.11.4"
  }
 },
 "nbformat": 4,
 "nbformat_minor": 2
}
