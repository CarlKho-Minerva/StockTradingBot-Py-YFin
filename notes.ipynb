{
 "cells": [
  {
   "cell_type": "markdown",
   "metadata": {},
   "source": [
    "# .rolling(window)\n",
    "\n",
    "Rolling window operations in pandas calculate a statistic (like mean) for a specified number of rows (the 'window') that moves ('rolls') along the index. For example, `df['price'].rolling(window=3).mean()` calculates the mean of every 3 prices, moving one row at a time.\""
   ]
  },
  {
   "cell_type": "markdown",
   "metadata": {},
   "source": [
    "- **Trading Bot**: A program that buys or sells assets based on certain rules.\n",
    "- **Fast and Slow Moving Averages**: Fast averages change quickly with new prices, slow averages change slowly. Used in a 'crossover strategy'.\n",
    "- **Crossover Strategy**: When the fast average goes above the slow average, it's a signal to buy. When it goes below, it's a signal to sell.\n",
    "- **Window Size**: The number of data points used to calculate the average. Short windows are more sensitive to recent changes, long windows are less sensitive.\n",
    "- **Short-Term vs Long-Term Strategies**: Short-term strategies use smaller windows to react quickly to price changes. Long-term strategies use larger windows to focus on long-term trends.\n",
    "- **Important Note**: Always research and test your strategy before live trading. There's no one-size-fits-all strategy. Different factors like asset type, market conditions, and risk tolerance can affect strategy effectiveness."
   ]
  },
  {
   "cell_type": "markdown",
   "metadata": {},
   "source": [
    "`iloc` in `pd` is just Index Location"
   ]
  },
  {
   "cell_type": "markdown",
   "metadata": {},
   "source": [
    ">Waiting 60 seconds is an oversimplification and is by all means suboptimal. If we were to start the script at 12H:00M:20S, it would execute 20 seconds after each new bar. Moreover, it will shift a little bit since, in reality, it will iterate every 60 seconds + the time it takes to do an iteration.\n",
    "\n"
   ]
  },
  {
   "cell_type": "markdown",
   "metadata": {},
   "source": []
  }
 ],
 "metadata": {
  "language_info": {
   "name": "python"
  }
 },
 "nbformat": 4,
 "nbformat_minor": 2
}
